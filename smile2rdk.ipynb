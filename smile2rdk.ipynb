{
 "cells": [
  {
   "cell_type": "code",
   "execution_count": 1,
   "id": "550615d8",
   "metadata": {},
   "outputs": [],
   "source": [
    "from rdkit import Chem\n",
    "from rdkit.Chem import AllChem\n",
    "from ase.visualize import view\n",
    "# SMILES string\n",
    "smiles = \"C(CCN)CC(C(=O)O)N.Cl\"\n",
    "\n",
    "\n",
    "\n",
    "# Convert SMILES to RDKit molecule object\n",
    "mol = Chem.MolFromSmiles(smiles)\n",
    "\n",
    "# Generate 3D coordinates for the molecule\n",
    "mol = Chem.AddHs(mol)\n",
    "AllChem.EmbedMolecule(mol)\n",
    "\n",
    "# Optimize the structure using a force field\n",
    "AllChem.MMFFOptimizeMolecule(mol)\n",
    "\n",
    "# Get XYZ coordinates\n",
    "xyz = Chem.MolToXYZBlock(mol)\n",
    "\n",
    "# Save XYZ coordinates to a file\n",
    "with open(\"molecule.xyz\", \"w\") as xyz_file:\n",
    "    xyz_file.write(xyz)\n",
    "#atoms=read('')\n",
    "#view(xyz)\n",
    "from ase import Atoms\n",
    "from ase.io import read,write\n",
    "#smiles = \"CC(=O)Oc1ccccc1C(=O)O\"\n",
    "atoms = read('molecule.xyz')\n",
    "coordinates = atoms.get_positions()\n",
    "view(atoms)\n",
    "#atoms.write('mol.com',format='gaussian-in')\n",
    "atoms.write('lysine.pdb',format='proteindatabank')"
   ]
  },
  {
   "cell_type": "code",
   "execution_count": null,
   "id": "ff4e9702",
   "metadata": {},
   "outputs": [],
   "source": []
  },
  {
   "cell_type": "code",
   "execution_count": null,
   "id": "698b8b7a",
   "metadata": {},
   "outputs": [],
   "source": []
  }
 ],
 "metadata": {
  "kernelspec": {
   "display_name": "Python 3 (ipykernel)",
   "language": "python",
   "name": "python3"
  },
  "language_info": {
   "codemirror_mode": {
    "name": "ipython",
    "version": 3
   },
   "file_extension": ".py",
   "mimetype": "text/x-python",
   "name": "python",
   "nbconvert_exporter": "python",
   "pygments_lexer": "ipython3",
   "version": "3.11.0"
  }
 },
 "nbformat": 4,
 "nbformat_minor": 5
}
